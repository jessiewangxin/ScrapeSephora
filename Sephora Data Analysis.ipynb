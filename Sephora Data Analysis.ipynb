{
 "cells": [
  {
   "cell_type": "code",
   "execution_count": 279,
   "metadata": {},
   "outputs": [],
   "source": [
    "import pandas as pd\n",
    "import numpy as np\n",
    "import matplotlib as plt\n",
    "\n",
    "veganproducts = pd.read_csv('veganproducts.csv')\n",
    "eyecream_lipcare = pd.read_csv('eyecream_lipcare.csv')\n",
    "moist_cleans = pd.read_csv('moist_cleans.csv')\n",
    "skincare_data = pd.concat([eyecream_lip1,moist_cleans],ignore_index=True)\n"
   ]
  },
  {
   "cell_type": "code",
   "execution_count": 280,
   "metadata": {},
   "outputs": [],
   "source": [
    "#dating importing, stacking, and outputting DO NOT DELETE! \n",
    "#moist1 = pd.read_csv('MOISTURIZER_CLEANSER.csv')\n",
    "#moist2 = pd.read_csv('MOISTURIZER_CLEANSER2.csv')\n",
    "#moist_cleans = pd.concat([moist1,moist2],ignore_index=True)\n",
    "\n",
    "#del moist_cleans['Unnamed: 0']"
   ]
  },
  {
   "cell_type": "code",
   "execution_count": 281,
   "metadata": {},
   "outputs": [],
   "source": [
    "#moist_cleans.to_csv('moist_cleans.csv')"
   ]
  },
  {
   "cell_type": "code",
   "execution_count": null,
   "metadata": {},
   "outputs": [],
   "source": []
  },
  {
   "cell_type": "code",
   "execution_count": 282,
   "metadata": {},
   "outputs": [],
   "source": [
    "#REMOVE duplicates\n",
    "skincare_data = skincare_data.drop_duplicates(subset=None, keep='first', inplace=False)"
   ]
  },
  {
   "cell_type": "code",
   "execution_count": null,
   "metadata": {},
   "outputs": [],
   "source": []
  },
  {
   "cell_type": "code",
   "execution_count": 283,
   "metadata": {},
   "outputs": [],
   "source": [
    "#defining new variables\n",
    "veganproducts['is_vegan']= [1 if cat=='vegan-skin-care' else 0 for cat in veganproducts['category']]\n",
    "\n",
    "#skincare_data['notvegan']= [1 if i==0 else 0 for i in skincare_data['is_vegan']]\n",
    "#skincare_data['eye_care']= [1 if cat =='eye-treatment-dark-circle-treatment' else 0 for cat in skincare_data['category']]\n",
    "#skincare_data['lip_care']= [1 if cat =='lip-treatments' else 0 for cat in skincare_data['category']]\n"
   ]
  },
  {
   "cell_type": "code",
   "execution_count": 284,
   "metadata": {},
   "outputs": [],
   "source": [
    "#left join the flags \n",
    "skincare_data2=pd.merge(skincare_data,veganproducts[['prod_name','is_vegan']], on='prod_name', how='left')"
   ]
  },
  {
   "cell_type": "code",
   "execution_count": 285,
   "metadata": {},
   "outputs": [],
   "source": [
    "skincare_data2['is_vegan']=skincare_data2['is_vegan'].fillna(0)"
   ]
  },
  {
   "cell_type": "code",
   "execution_count": 286,
   "metadata": {},
   "outputs": [],
   "source": [
    "skincare_data2['notvegan']= [1 if i==0 else 0 for i in skincare_data2['is_vegan']]"
   ]
  },
  {
   "cell_type": "code",
   "execution_count": 287,
   "metadata": {},
   "outputs": [],
   "source": [
    "#skincare_data has 1200 rows\n",
    "#skincare_data2 has \n",
    "skincare_datasub = skincare_data2[['category','is_vegan','notvegan']]\n",
    "skincare_datasub2=skincare_datasub.groupby('category').agg(sum)\n",
    "\n",
    "compare_cat= skincare_datasub2"
   ]
  },
  {
   "cell_type": "code",
   "execution_count": 288,
   "metadata": {},
   "outputs": [],
   "source": [
    "compare_cat=compare_cat.reset_index()"
   ]
  },
  {
   "cell_type": "code",
   "execution_count": 289,
   "metadata": {},
   "outputs": [
    {
     "data": {
      "text/plain": [
       "<matplotlib.axes._subplots.AxesSubplot at 0x11b31a990>"
      ]
     },
     "execution_count": 289,
     "metadata": {},
     "output_type": "execute_result"
    },
    {
     "data": {
      "image/png": "[encoded data removed]",
      "text/plain": [
       "<Figure size 432x288 with 1 Axes>"
      ]
     },
     "metadata": {
      "needs_background": "light"
     },
     "output_type": "display_data"
    }
   ],
   "source": [
    "\n",
    "compare_cat.set_index('category').plot(kind='bar',rot=0)\n",
    "#NEED TO FORMAT AND MAKE PRETTY"
   ]
  },
  {
   "cell_type": "code",
   "execution_count": 242,
   "metadata": {},
   "outputs": [],
   "source": [
    "\n",
    "\n"
   ]
  },
  {
   "cell_type": "code",
   "execution_count": null,
   "metadata": {},
   "outputs": [],
   "source": []
  },
  {
   "cell_type": "code",
   "execution_count": 116,
   "metadata": {},
   "outputs": [],
   "source": [
    "#INGREDIENT LIST "
   ]
  },
  {
   "cell_type": "code",
   "execution_count": null,
   "metadata": {},
   "outputs": [],
   "source": [
    "\n",
    "blank =[]\n",
    "for i in skincare_data['ingredients']:\n",
    "    blank.append(i.split(', '))"
   ]
  },
  {
   "cell_type": "code",
   "execution_count": null,
   "metadata": {},
   "outputs": [],
   "source": [
    "test=veganproducts['ingredients'][0]"
   ]
  },
  {
   "cell_type": "code",
   "execution_count": 50,
   "metadata": {},
   "outputs": [],
   "source": [
    "flat_ingredients = [a for sublist in blank for a in sublist]"
   ]
  },
  {
   "cell_type": "code",
   "execution_count": 85,
   "metadata": {},
   "outputs": [],
   "source": [
    "ingredient_dict = dict((ingredient, flat_ingredients.count(ingredient)) for ingredient in flat_ingredients)"
   ]
  },
  {
   "cell_type": "code",
   "execution_count": 94,
   "metadata": {},
   "outputs": [
    {
     "data": {
      "text/plain": [
       "['Squalane',\n",
       " 'Sodium Hydroxide',\n",
       " 'Linalool',\n",
       " 'Dimethicone',\n",
       " 'Cetearyl Alcohol',\n",
       " 'Sodium Benzoate',\n",
       " 'Potassium Sorbate',\n",
       " 'Limonene',\n",
       " 'Caprylic/Capric Triglyceride',\n",
       " 'Propanediol',\n",
       " 'Xanthan Gum',\n",
       " 'Tocopherol',\n",
       " 'Caprylyl Glycol',\n",
       " 'Sodium Hyaluronate',\n",
       " 'Citric Acid',\n",
       " 'Butylene Glycol',\n",
       " 'Ethylhexylglycerin',\n",
       " 'Phenoxyethanol',\n",
       " 'Water',\n",
       " 'Glycerin']"
      ]
     },
     "execution_count": 94,
     "metadata": {},
     "output_type": "execute_result"
    }
   ],
   "source": [
    "#top20 vegan ingredients - show venn diagram \n",
    "sorted(ingredient_dict, key=ingredient_dict.get)[-20:] "
   ]
  },
  {
   "cell_type": "code",
   "execution_count": null,
   "metadata": {},
   "outputs": [],
   "source": []
  },
  {
   "cell_type": "code",
   "execution_count": null,
   "metadata": {},
   "outputs": [],
   "source": [
    "#ideas:\n",
    "#look at the overlap between vegan and clean products, price differences\n",
    "#look at what percent vegan and clean products make up of certain categories, price differences\n",
    "#some type of bar graph split by categories \n",
    "#analyze most popular ingredients - analyze between the three groups - venn diagram \n",
    "#analyze amount of products that contain sephora's listed banned toxic products\n",
    "#"
   ]
  }
 ],
 "metadata": {
  "kernelspec": {
   "display_name": "Python 3",
   "language": "python",
   "name": "python3"
  },
  "language_info": {
   "codemirror_mode": {
    "name": "ipython",
    "version": 3
   },
   "file_extension": ".py",
   "mimetype": "text/x-python",
   "name": "python",
   "nbconvert_exporter": "python",
   "pygments_lexer": "ipython3",
   "version": "3.7.6"
  }
 },
 "nbformat": 4,
 "nbformat_minor": 4
}
